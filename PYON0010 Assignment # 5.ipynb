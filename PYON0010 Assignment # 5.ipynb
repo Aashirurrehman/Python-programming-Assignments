{
 "cells": [
  {
   "cell_type": "code",
   "execution_count": 1,
   "metadata": {},
   "outputs": [
    {
     "name": "stdout",
     "output_type": "stream",
     "text": [
      "120\n"
     ]
    }
   ],
   "source": [
    "# Question:1 Write a Python function to calculate the factorial of a number (a non-negative integer). The function accepts the number as an argument.\n",
    "\n",
    "def factorial(num):\n",
    "    product = 1\n",
    "    while num > 0:\n",
    "        product *= num\n",
    "        num -= 1\n",
    "    print(product)\n",
    "    \n",
    "factorial(5)"
   ]
  },
  {
   "cell_type": "code",
   "execution_count": 2,
   "metadata": {},
   "outputs": [
    {
     "name": "stdout",
     "output_type": "stream",
     "text": [
      "We have 7 Lower case letters:\n",
      "We have 4 Upper case letters:\n"
     ]
    }
   ],
   "source": [
    "# Question:2 Write a Python function that accepts a string and calculate the number of upper case letters and lower case letters.\n",
    "\n",
    "def case_count(string):\n",
    "    upper_count = 0\n",
    "    lower_count = 0\n",
    "    for letter in string:\n",
    "        if letter == letter.lower():\n",
    "            lower_count += 1\n",
    "        elif letter == letter.upper():\n",
    "            upper_count += 1\n",
    "    print(f\"We have {lower_count} Lower case letters:\")\n",
    "    print(f\"We have {upper_count} Upper case letters:\")\n",
    "    \n",
    "case_count(\"aBcDeFGhijk\")"
   ]
  },
  {
   "cell_type": "code",
   "execution_count": 3,
   "metadata": {},
   "outputs": [
    {
     "name": "stdout",
     "output_type": "stream",
     "text": [
      "2\n",
      "4\n",
      "6\n",
      "8\n",
      "10\n",
      "12\n",
      "14\n",
      "16\n",
      "18\n",
      "20\n"
     ]
    }
   ],
   "source": [
    "# Question:3 Write a Python function to print the even numbers from a given list.\n",
    "\n",
    "def print_even(numbers):\n",
    "    for number in numbers:\n",
    "        if number % 2 == 0:\n",
    "            print(number)\n",
    "            \n",
    "print_even([1,2,3,4,5,6,7,8,9,10,11,12,13,14,15,16,17,18,19,20])"
   ]
  },
  {
   "cell_type": "code",
   "execution_count": 4,
   "metadata": {},
   "outputs": [
    {
     "name": "stdout",
     "output_type": "stream",
     "text": [
      "we have a palindrome string.\n",
      "we have a palindrome string.\n",
      "we have a non palindrome string.\n",
      "we have a palindrome string.\n",
      "we have a non palindrome string.\n",
      "we have a non palindrome string.\n",
      "we have a palindrome string.\n"
     ]
    }
   ],
   "source": [
    "# Write a Python function that checks whether a passed string is palindrome or not. Note: A palindrome is a word, phrase, or sequence that reads the same backward as forward, e.g., madam\n",
    "\n",
    "def palindrome(string):\n",
    "    if string == string[::-1]:\n",
    "        print(\"we have a palindrome string.\")\n",
    "    else:\n",
    "        print(\"we have a non palindrome string.\")\n",
    "        \n",
    "\n",
    "palindrome(\"madam\")\n",
    "palindrome(\"level\")\n",
    "palindrome(\"Iron man\")\n",
    "palindrome(\"deed\")\n",
    "palindrome(\"Aashir\")\n",
    "palindrome(\"learn\")\n",
    "palindrome(\"nursesrun\")"
   ]
  },
  {
   "cell_type": "code",
   "execution_count": 5,
   "metadata": {},
   "outputs": [
    {
     "name": "stdout",
     "output_type": "stream",
     "text": [
      "2  prime number\n",
      "4  not prime number\n",
      "6  not prime number\n",
      "9  not prime number\n",
      "11  prime number\n",
      "13  prime number\n"
     ]
    }
   ],
   "source": [
    "# Question:5 Write a Python function that takes a number as a parameter and check the number is prime or not.\n",
    "\n",
    "def prime(num):\n",
    "    condition = True\n",
    "    if num > 1:  \n",
    "        for i in range(2,num):  \n",
    "            if (num % i) == 0:  \n",
    "                print(num,\" not prime number\")  \n",
    "                condition = False\n",
    "                break  \n",
    "        if condition:\n",
    "            print(num, \" prime number\")\n",
    "\n",
    "    else:\n",
    "        print(num, \"is not a prime number\")\n",
    "\n",
    "prime(2)\n",
    "prime(4)\n",
    "prime(6)\n",
    "prime(9)\n",
    "prime(11)\n",
    "prime(13)\n"
   ]
  },
  {
   "cell_type": "code",
   "execution_count": 6,
   "metadata": {},
   "outputs": [
    {
     "name": "stdout",
     "output_type": "stream",
     "text": [
      "\t\t Items:\n",
      "\n",
      "\t\tSpaghetti\n",
      "\t\tPasta\n",
      "\t\tRice\n",
      "\t\tChicken\n",
      "\t\tKetchup\n",
      "\t\tSauce\n"
     ]
    }
   ],
   "source": [
    "# Question: 6 Suppose a customer is shopping in a market and you need to print all the items which user bought from market.Write a function which accepts the multiple arguments of user shopping list and print all the items which user bought from market. (Hint: Arbitrary Argument concept can make this task ease)\n",
    "\n",
    "\n",
    "def market(*items):\n",
    "    print(\"\\t\\t Items:\\n\")\n",
    "    for item in items:\n",
    "        print(f\"\\t\\t{item}\")\n",
    "        \n",
    "market(\"Spaghetti\",\"Pasta\",\"Rice\",\"Chicken\",\"Ketchup\",\"Sauce\")\n"
   ]
  },
  {
   "cell_type": "code",
   "execution_count": null,
   "metadata": {},
   "outputs": [],
   "source": []
  }
 ],
 "metadata": {
  "kernelspec": {
   "display_name": "Python 3",
   "language": "python",
   "name": "python3"
  },
  "language_info": {
   "codemirror_mode": {
    "name": "ipython",
    "version": 3
   },
   "file_extension": ".py",
   "mimetype": "text/x-python",
   "name": "python",
   "nbconvert_exporter": "python",
   "pygments_lexer": "ipython3",
   "version": "3.7.4"
  }
 },
 "nbformat": 4,
 "nbformat_minor": 2
}
