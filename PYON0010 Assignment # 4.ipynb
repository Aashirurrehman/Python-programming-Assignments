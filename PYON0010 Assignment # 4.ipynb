{
 "cells": [
  {
   "cell_type": "code",
   "execution_count": 11,
   "metadata": {},
   "outputs": [
    {
     "name": "stdout",
     "output_type": "stream",
     "text": [
      "{'first_name': 'Aashir ', 'last_name': 'ur Rehman', 'age': 26, 'city': 'karachi'}\n",
      "{'first_name': 'Aashir ', 'last_name': 'ur Rehman', 'age': 26, 'city': 'karachi', 'Qualification': 'Bachelor in Petroleum Engineering'}\n",
      "{'first_name': 'Aashir ', 'last_name': 'ur Rehman', 'age': 26, 'city': 'karachi'}\n"
     ]
    }
   ],
   "source": [
    "#Question1: Use a dictionary to store information about a person you know. Store their first name, last name, age,and the city in which they live. You should have keys such as first_name, last_name, age, and city. Printeach piece of information stored in your dictionary. Add a new key value pair about qualification thenupdate the qualification value to high academic level then delete it.\n",
    "\n",
    "profile_Information = {\"first_name\":\"Aashir \",\"last_name\":\"ur Rehman\",\"age\":26,\"city\":\"karachi\"}\n",
    "print(profile_Information)\n",
    "\n",
    "profile_Information[\"Qualification\"] = \"Bachelor in Petroleum Engineering\"\n",
    "print(profile_Information)\n",
    "\n",
    "del profile_Information[\"Qualification\"]\n",
    "print(profile_Information)"
   ]
  },
  {
   "cell_type": "code",
   "execution_count": 10,
   "metadata": {},
   "outputs": [
    {
     "name": "stdout",
     "output_type": "stream",
     "text": [
      "karachi {'country': 'Pakistan', 'Population': '14.91 Million', 'fact': 'Karachi the city of lights'}\n",
      "lahore {'country': 'Pakistan', 'Population': '12.1 million', 'fact': 'it has smog'}\n",
      "peshawar {'country': 'Pakistan', 'Population': ' 2.1 million', 'fact': 'Chapli kabab are delicious'}\n"
     ]
    }
   ],
   "source": [
    "#Question2:Make a dictionary called cities. Use the names of three cities as keys in your dictionary. Create a dictionary of information about each city and include the country that the city is in, its approximate population, and one fact about that city. The keys for each city’s dictionary should be something like country, population, and fact. Print the name of each city and all of the information you have stored about it.\n",
    "\n",
    "city = {\"karachi\":{\"country\":\"Pakistan\",\"Population\":\"14.91 Million\",\"fact\":\"Karachi the city of lights\"},\n",
    "        \"lahore\":{\"country\":\"Pakistan\",\"Population\":\"12.1 million\",'fact':\"it has smog\"},\n",
    "       \"peshawar\":{\"country\":\"Pakistan\",\"Population\":\" 2.1 million\",\"fact\":\"Chapli kabab are delicious\"}}\n",
    "\n",
    "for k,p in city.items():    print(k,p)"
   ]
  },
  {
   "cell_type": "code",
   "execution_count": 14,
   "metadata": {},
   "outputs": [
    {
     "name": "stdout",
     "output_type": "stream",
     "text": [
      "Enter age20\n",
      "pay 15$ for your ticket\n"
     ]
    }
   ],
   "source": [
    "# Question3:A movie theater charges different ticket prices depending on a person’s age. If a person is under the age of 3, the ticket is free; if they are between 3 and 12, the ticket is $10; and if they are over age 12, the ticket is $15. Write a loop in which you ask users their age, and then tell them the cost of their movie ticket.\n",
    "\n",
    "for a in range(3):\n",
    "    age = int(input(\"Enter age\"))\n",
    "    if age <=3:\n",
    "        print(\"free ticket\")\n",
    "        break\n",
    "        \n",
    "    if age >3 and age <=12:\n",
    "        print(\"pay 10$ for y6ur ticket\")\n",
    "        break\n",
    "        \n",
    "    if age > 12:\n",
    "        print(\"pay 15$ for your ticket\")\n",
    "        break"
   ]
  },
  {
   "cell_type": "code",
   "execution_count": 18,
   "metadata": {},
   "outputs": [
    {
     "data": {
      "text/plain": [
       "('my favourite book is', 'Harry Potter and the Deathly Hallows')"
      ]
     },
     "execution_count": 18,
     "metadata": {},
     "output_type": "execute_result"
    }
   ],
   "source": [
    "# Question 4: Write a function called favorite_book() that accepts one parameter, title. The function should print a message, such as One of my favorite books is Alice in Wonderland. Call the function, making sure to include a book title as an argument in the function call.\n",
    "\n",
    "def favourite_book(title):\n",
    "        return \"my favourite book is\",title\n",
    "    \n",
    "favourite_book(\"Harry Potter and the Deathly Hallows\")"
   ]
  },
  {
   "cell_type": "code",
   "execution_count": 31,
   "metadata": {},
   "outputs": [
    {
     "name": "stdout",
     "output_type": "stream",
     "text": [
      "================HINT================\n",
      "try a number between 1 and 10\n",
      "enter your guess: 2\n",
      "Try Again\n",
      "============GAME OVER (-__-) ============\n",
      "enter your guess: 5\n",
      "BINGO\n"
     ]
    }
   ],
   "source": [
    "# Question5: Guess the number game Write a program which randomly generate a number between 1 to 30 and ask the user in input field to guess the correct number. Give three chances to user guess the number and also give hint to user if hidden number is greater or smaller than the number he given to input field.\n",
    "\n",
    "import random\n",
    "\n",
    "#let the mystery number be \"n\"\n",
    "n=random.randint(1,30) \n",
    "print(\"================HINT================\")\n",
    "\n",
    "if n>= 1 and n < 10:\n",
    "    print(\"try a number between 1 and 10\")\n",
    "elif n >= 10 and n < 20:\n",
    "    print(\"try a number between 10 and 20\")\n",
    "elif n >= 20 and n < 30:\n",
    "    print(\"try a number between 20 and 30\")\n",
    "for i in range(0,3):\n",
    "    user = int(input(\"enter your guess: \"))\n",
    "    if user < 1 or user > 30:\n",
    "        print(\"choose a number between 1 and 30\")\n",
    "    else:\n",
    "        if user == n:\n",
    "            print(\"BINGO\")\n",
    "            break\n",
    "        else:\n",
    "            print(\"Try Again\")\n",
    "            print(\"============GAME OVER (-__-) ============\")\n"
   ]
  },
  {
   "cell_type": "code",
   "execution_count": null,
   "metadata": {},
   "outputs": [],
   "source": []
  },
  {
   "cell_type": "code",
   "execution_count": null,
   "metadata": {},
   "outputs": [],
   "source": []
  }
 ],
 "metadata": {
  "kernelspec": {
   "display_name": "Python 3",
   "language": "python",
   "name": "python3"
  },
  "language_info": {
   "codemirror_mode": {
    "name": "ipython",
    "version": 3
   },
   "file_extension": ".py",
   "mimetype": "text/x-python",
   "name": "python",
   "nbconvert_exporter": "python",
   "pygments_lexer": "ipython3",
   "version": "3.7.4"
  }
 },
 "nbformat": 4,
 "nbformat_minor": 2
}
