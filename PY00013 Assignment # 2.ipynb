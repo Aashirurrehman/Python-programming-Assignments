{
 "cells": [
  {
   "cell_type": "code",
   "execution_count": 1,
   "metadata": {},
   "outputs": [
    {
     "name": "stdout",
     "output_type": "stream",
     "text": [
      "enter your maths subject marks90\n",
      "enter your physics subject marks90\n",
      "enter your checmistry subject marks90\n",
      "enter your urdu subject marks90\n",
      "enter your english subject marks90\n",
      "The sum of 90 and 90 and 90 and 90 and 90 is 450.0\n",
      "Percentage is:  90.0\n",
      "A+\n"
     ]
    }
   ],
   "source": [
    "# Write a program which take input from user and identify that the given number is even or odd?\n",
    "\n",
    "maths = input(\"enter your maths subject marks\")\n",
    "physics = input(\"enter your physics subject marks\")\n",
    "chemistry = input(\"enter your checmistry subject marks\")\n",
    "urdu = input(\"enter your urdu subject marks\")\n",
    "english = input(\"enter your english subject marks\")\n",
    "totalmarks = \"500\"\n",
    "sum = float(maths) + float(physics) + float(chemistry) + float(urdu) + float(english)\n",
    "\n",
    "print('The sum of {0} and {1} and {2} and {3} and {4} is {5}'.format(maths, physics,chemistry,urdu, english, sum))\n",
    "\n",
    "per = float(sum*100)//500\n",
    "print (\"Percentage is: \",per)\n",
    "\n",
    "if per >= 80 and per <=100 :\n",
    "    print(\"A+\")\n",
    "elif per >= 70 and per < 80 :\n",
    "    print(\"A\")\n",
    "elif per >= 60 and per < 70 :\n",
    "    print(\"B\")\n",
    "elif per >= 50 and per < 60 :\n",
    "    print(\"c\")\n",
    "elif per < 50 :\n",
    "    print(\"fail\")\n",
    "else :\n",
    "    print(\"invalid percentage entered\")"
   ]
  },
  {
   "cell_type": "code",
   "execution_count": 2,
   "metadata": {},
   "outputs": [
    {
     "name": "stdout",
     "output_type": "stream",
     "text": [
      "Enter a number: 1\n",
      "This is an odd number.\n"
     ]
    }
   ],
   "source": [
    "# Write a program which take input from user and identify that the given number is even or odd?\n",
    "num = int(input(\"Enter a number: \"))\n",
    "mod = num % 2\n",
    "if mod > 0:\n",
    "    print(\"This is an odd number.\")\n",
    "else:\n",
    "    print(\"This is an even number.\")\n"
   ]
  },
  {
   "cell_type": "code",
   "execution_count": 3,
   "metadata": {},
   "outputs": [
    {
     "name": "stdout",
     "output_type": "stream",
     "text": [
      "The length of list is:  4\n"
     ]
    }
   ],
   "source": [
    "# Write a program which print the length of the list?\n",
    "\n",
    "a = [\"Spiderman\",\"Batman\",\"Superman\",\"Ironman\"] \n",
    "\n",
    "print(\"The length of list is: \", len(a))\n"
   ]
  },
  {
   "cell_type": "code",
   "execution_count": 14,
   "metadata": {},
   "outputs": [
    {
     "name": "stdout",
     "output_type": "stream",
     "text": [
      "Sum of all elements in given list:  74\n"
     ]
    }
   ],
   "source": [
    "total = 0                                   #Honestly speaking sir i am not satisfied with this question because i havent found them in ur video lecture , like first three questions are like very satisfying to me because i did this by myself  where as as compare to question 4 i dont even knw what range function and for loop and for else function do so please give a brief intro about that well its a copy paste\"\n",
    "  \n",
    "List = [4, 7, 8, 10, 2]  \n",
    "  \n",
    "for ele in range(0, len(list1)): \n",
    "    total = total + list1[ele] \n",
    "   \n",
    "print(\"Sum of all elements in given list: \", total) "
   ]
  },
  {
   "cell_type": "code",
   "execution_count": 16,
   "metadata": {},
   "outputs": [
    {
     "name": "stdout",
     "output_type": "stream",
     "text": [
      "Our greater number is 25\n"
     ]
    }
   ],
   "source": [
    "# Write a Python program to get the largest number from a numeric list.\n",
    "\n",
    "num = [7, 16, 5, 25, 10, 11, 20]\n",
    "\n",
    "greater_num = max(num)\n",
    "print(\"Our greater number is \" + str(greater_num))\n"
   ]
  },
  {
   "cell_type": "code",
   "execution_count": 23,
   "metadata": {},
   "outputs": [
    {
     "name": "stdout",
     "output_type": "stream",
     "text": [
      "1\n",
      "1\n",
      "2\n",
      "3\n"
     ]
    }
   ],
   "source": [
    "#Take a list, say for example this one: a = [1, 1, 2, 3, 5, 8, 13, 21, 34, 55, 89] and write a program that prints out all the elements of the list that are less than 5.\n",
    "\n",
    "a = [1, 1, 2, 3, 5, 8, 13, 21, 34, 55, 89]\n",
    "\n",
    "for i in a:\n",
    "\n",
    "    if i < 5:\n",
    "\n",
    "        print(i)"
   ]
  },
  {
   "cell_type": "code",
   "execution_count": null,
   "metadata": {},
   "outputs": [],
   "source": []
  }
 ],
 "metadata": {
  "kernelspec": {
   "display_name": "Python 3",
   "language": "python",
   "name": "python3"
  },
  "language_info": {
   "codemirror_mode": {
    "name": "ipython",
    "version": 3
   },
   "file_extension": ".py",
   "mimetype": "text/x-python",
   "name": "python",
   "nbconvert_exporter": "python",
   "pygments_lexer": "ipython3",
   "version": "3.7.4"
  }
 },
 "nbformat": 4,
 "nbformat_minor": 2
}
